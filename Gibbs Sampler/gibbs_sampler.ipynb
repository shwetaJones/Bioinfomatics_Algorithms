{
 "cells": [
  {
   "cell_type": "code",
   "execution_count": 1,
   "metadata": {},
   "outputs": [],
   "source": [
    "import sys\n",
    "import random\n",
    "import math"
   ]
  },
  {
   "cell_type": "code",
   "execution_count": 2,
   "metadata": {},
   "outputs": [],
   "source": [
    "def gibbs_sampler(dna: list[str], k: int, t: int, N: int) -> list[str]:    \n",
    "    finalScore = 10000000000000.0\n",
    "    allDNA = dna\n",
    "    for round in range(20):\n",
    "\n",
    "        motifs = []\n",
    "        for seq in allDNA:\n",
    "            motifs.append(random_motif(seq, k))\n",
    "        bestMotifs = motifs.copy()\n",
    "\n",
    "        for j in range(20):\n",
    "            i = random.randint(0, t) - 1\n",
    "            motifi = motifs[i]\n",
    "            dnai = dna[i]\n",
    "\n",
    "            del motifs[i]\n",
    "            del dna[i]\n",
    "            \n",
    "            profile = create_profile(motifs, k)\n",
    "            motifs = find_motifs(profile, dna, k)\n",
    "\n",
    "            motifi = random_motif(dnai, k)\n",
    "            motifs.insert(i, motifi)\n",
    "            dna.insert(i, dnai)\n",
    "\n",
    "            motifsScore = calculate_set_score(motifs)\n",
    "            bestMotifsScore = calculate_set_score(bestMotifs)\n",
    "\n",
    "            if motifsScore < bestMotifsScore: \n",
    "                bestMotifs =  motifs.copy()\n",
    "                bestMotifsScore = motifsScore\n",
    "\n",
    "        if bestMotifsScore < finalScore:\n",
    "            finalMotifs = bestMotifs\n",
    "            finalScore = bestMotifsScore\n",
    "\n",
    "    return finalMotifs\n",
    "\n",
    "\n",
    "def random_motif(seq, k):\n",
    "    start = random.randint(0, len(seq)-k)\n",
    "    kmer = seq[start:start+k]\n",
    "    return kmer\n",
    "\n",
    "def create_profile(motifs, k):\n",
    "    profile = []\n",
    "    for i in range(k):\n",
    "        countDict = {\"A\":1, \"T\":1, \"C\":1, \"G\":1}\n",
    "        for motif in motifs:\n",
    "            nuc = motif[i]\n",
    "            countDict[nuc] += 1\n",
    "        countDict = {key: value / (sum(countDict.values())) for key, value in countDict.items()}\n",
    "        profile.append(countDict)\n",
    "    return profile\n",
    "\n",
    "def calculate_set_score(motifs):\n",
    "    nucCount = []\n",
    "    for i in range(len(motifs[0])):\n",
    "        dict = {\"A\":0, \"T\":0, \"C\":0, \"G\":0}\n",
    "        for j in range(len(motifs)):\n",
    "            dict[motifs[j][i]] += 1\n",
    "        nucCount.append(dict)\n",
    "\n",
    "    consensus = 0.0\n",
    "    for i in nucCount:\n",
    "        nuc = max(i, key=i.get)\n",
    "        consensus += (sum(i.values()) - i[nuc])\n",
    "    return consensus\n",
    "\n",
    "def find_motifs(profile, dna, k):\n",
    "    motifs = []\n",
    "    for seq in dna:\n",
    "        text_length = len(seq)\n",
    "        bestKmer = \"\"\n",
    "        bestScore = 0.0\n",
    "        for i in range(text_length+1-k):\n",
    "            kmer = seq[i:i+k]\n",
    "            score = calculate_score(kmer, profile)\n",
    "            if score > bestScore: ###\n",
    "                bestScore = score \n",
    "                bestKmer = kmer\n",
    "        motifs.append(bestKmer)\n",
    "    return motifs\n",
    "\n",
    "def calculate_score(motif, profile):\n",
    "    score = 1.0\n",
    "    for i in range(len(motif)):\n",
    "        nuc = motif[i]\n",
    "        score *= profile[i][nuc]\n",
    "    return score"
   ]
  },
  {
   "cell_type": "code",
   "execution_count": 3,
   "metadata": {},
   "outputs": [
    {
     "name": "stdout",
     "output_type": "stream",
     "text": [
      "Correct:  ['AACGGCCA', 'AAGTGCCA', 'TAGTACCG', 'AAGTTTCA', 'ACGTGCAA']\n",
      "Mine:  ['GTGTTCAG', 'GTGCCAAG', 'GTATACAG', 'GTTTCAGG', 'GTGCAATG']\n"
     ]
    },
    {
     "data": {
      "text/plain": [
       "9.0"
      ]
     },
     "execution_count": 3,
     "metadata": {},
     "output_type": "execute_result"
    }
   ],
   "source": [
    "k = 8 \n",
    "t = 5\n",
    "N = 100\n",
    "dna = [\"CGCCCCTCTCGGGGGTGTTCAGTAAACGGCCA\", \"GGGCGAGGTATGTGTAAGTGCCAAGGTGCCAG\", \"TAGTACCGAGACCGAAAGAAGTATACAGGCGT\", \"TAGATCAAGTTTCAGGTGCACGTCGGTGAACCAA\", \"TCCACCAGCTCCACGTGCAATGTTGGCCTA\"]\n",
    "correctMotifs = [\"AACGGCCA\", \"AAGTGCCA\", \"TAGTACCG\", \"AAGTTTCA\", \"ACGTGCAA\"]\n",
    "myMotifs = gibbs_sampler(dna, k, t, N)\n",
    "print(\"Correct: \", correctMotifs)\n",
    "print(\"Mine: \", myMotifs)\n",
    "\n",
    "calculate_set_score(correctMotifs)"
   ]
  }
 ],
 "metadata": {
  "kernelspec": {
   "display_name": "research-env",
   "language": "python",
   "name": "python3"
  },
  "language_info": {
   "codemirror_mode": {
    "name": "ipython",
    "version": 3
   },
   "file_extension": ".py",
   "mimetype": "text/x-python",
   "name": "python",
   "nbconvert_exporter": "python",
   "pygments_lexer": "ipython3",
   "version": "3.9.7"
  }
 },
 "nbformat": 4,
 "nbformat_minor": 2
}
