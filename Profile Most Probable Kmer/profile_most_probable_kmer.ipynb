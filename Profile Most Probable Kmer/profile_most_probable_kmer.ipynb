{
 "cells": [
  {
   "cell_type": "code",
   "execution_count": 1,
   "metadata": {},
   "outputs": [],
   "source": [
    "import sys"
   ]
  },
  {
   "cell_type": "code",
   "execution_count": 2,
   "metadata": {},
   "outputs": [],
   "source": [
    "def profile_most_probable_kmer(text: str, k: int, profile: list[dict[str, float]]) -> str:\n",
    "    \"\"\"Identifies the most probable k-mer according to a given profile matrix.\n",
    "\n",
    "    The profile matrix is represented as a list of columns, where the i-th element is a map\n",
    "    whose keys are strings (\"A\", \"C\", \"G\", and \"T\") and whose values represent the probability\n",
    "    associated with this symbol in the i-th column of the profile matrix.\n",
    "    \"\"\"\n",
    "    text_length = len(text)\n",
    "    kmer_scores_dict = {}\n",
    "    for i in range(text_length-k):\n",
    "        score = 1\n",
    "        kmer = text[i:i+k]\n",
    "        for i in range(k):\n",
    "            score = score * profile[i][kmer[i]]\n",
    "        kmer_scores_dict[kmer] = score\n",
    "    probable_kmer = max(kmer_scores_dict, key=kmer_scores_dict.get)\n",
    "    return probable_kmer"
   ]
  },
  {
   "cell_type": "code",
   "execution_count": 3,
   "metadata": {},
   "outputs": [
    {
     "data": {
      "text/plain": [
       "'CCGAG'"
      ]
     },
     "execution_count": 3,
     "metadata": {},
     "output_type": "execute_result"
    }
   ],
   "source": [
    "text = \"ACCTGTTTATTGCCTAAGTTCCGAACAAACCCAATATAGCCCGAGGGCCT\"\n",
    "k = 5\n",
    "profile = [{'A': 0.2, 'C': 0.4, 'G': 0.3, 'T': 0.1}, {'A': 0.2, 'C': 0.3, 'G': 0.3, 'T': 0.2}, {'A': 0.3, 'C': 0.1, 'G': 0.5, 'T': 0.1}, {'A': 0.2, 'C': 0.5, 'G': 0.2, 'T': 0.1}, {'A': 0.3, 'C': 0.1, 'G': 0.4, 'T': 0.2}]\n",
    "profile_most_probable_kmer(text, k, profile)"
   ]
  }
 ],
 "metadata": {
  "kernelspec": {
   "display_name": "research-env",
   "language": "python",
   "name": "python3"
  },
  "language_info": {
   "codemirror_mode": {
    "name": "ipython",
    "version": 3
   },
   "file_extension": ".py",
   "mimetype": "text/x-python",
   "name": "python",
   "nbconvert_exporter": "python",
   "pygments_lexer": "ipython3",
   "version": "3.9.7"
  }
 },
 "nbformat": 4,
 "nbformat_minor": 2
}
