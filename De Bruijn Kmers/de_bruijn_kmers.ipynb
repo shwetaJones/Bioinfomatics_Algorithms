{
 "cells": [
  {
   "cell_type": "code",
   "execution_count": 1,
   "metadata": {},
   "outputs": [],
   "source": [
    "import sys\n",
    "from typing import List, Dict, Iterable"
   ]
  },
  {
   "cell_type": "code",
   "execution_count": 2,
   "metadata": {},
   "outputs": [],
   "source": [
    "def de_bruijn_kmers(k_mers: List[str]) -> Dict[str, List[str]]:\n",
    "    \"\"\"Forms the de Bruijn graph of a collection of k-mers.\"\"\"\n",
    "    debruijnDict = {}\n",
    "    for kmer in k_mers:\n",
    "        \n",
    "        if kmer[:-1] in debruijnDict.keys():\n",
    "            debruijnDict[kmer[:-1]].append(kmer[1:])\n",
    "        else: \n",
    "            debruijnDict[kmer[:-1]] = [kmer[1:]]   \n",
    "        \n",
    "    return (debruijnDict)"
   ]
  },
  {
   "cell_type": "code",
   "execution_count": 3,
   "metadata": {},
   "outputs": [
    {
     "data": {
      "text/plain": [
       "{'GAG': ['AGG'],\n",
       " 'CAG': ['AGG', 'AGG'],\n",
       " 'GGG': ['GGG', 'GGA'],\n",
       " 'AGG': ['GGG'],\n",
       " 'GGA': ['GAG']}"
      ]
     },
     "execution_count": 3,
     "metadata": {},
     "output_type": "execute_result"
    }
   ],
   "source": [
    "k_mers = [\"GAGG\", \"CAGG\", \"GGGG\", \"GGGA\", \"CAGG\", \"AGGG\", \"GGAG\"]\n",
    "de_bruijn_kmers(k_mers)"
   ]
  }
 ],
 "metadata": {
  "kernelspec": {
   "display_name": "research-env",
   "language": "python",
   "name": "python3"
  },
  "language_info": {
   "codemirror_mode": {
    "name": "ipython",
    "version": 3
   },
   "file_extension": ".py",
   "mimetype": "text/x-python",
   "name": "python",
   "nbconvert_exporter": "python",
   "pygments_lexer": "ipython3",
   "version": "3.9.7"
  }
 },
 "nbformat": 4,
 "nbformat_minor": 2
}
